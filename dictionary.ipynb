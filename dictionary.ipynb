{
  "nbformat": 4,
  "nbformat_minor": 0,
  "metadata": {
    "colab": {
      "name": "dictionary",
      "provenance": []
    },
    "kernelspec": {
      "name": "python3",
      "display_name": "Python 3"
    },
    "language_info": {
      "name": "python"
    }
  },
  "cells": [
    {
      "cell_type": "code",
      "metadata": {
        "colab": {
          "base_uri": "https://localhost:8080/"
        },
        "id": "AmlujdiVjkS9",
        "outputId": "0e658d4f-0cf1-4520-93e8-41dad0505f0b"
      },
      "source": [
        "my_dict={1:\"amit\",2:\"patel\"}\n",
        "print(my_dict)"
      ],
      "execution_count": null,
      "outputs": [
        {
          "output_type": "stream",
          "name": "stdout",
          "text": [
            "{1: 'amit', 2: 'patel'}\n"
          ]
        }
      ]
    },
    {
      "cell_type": "code",
      "metadata": {
        "colab": {
          "base_uri": "https://localhost:8080/"
        },
        "id": "SzGucLtetF-e",
        "outputId": "0404d614-c757-4db5-ca60-8ee900f88639"
      },
      "source": [
        "my_dict={\"fist_name\":\"amit\",\"last_name\":\"patel\",\"hobby\":[\"football\",\"cricket\"]}\n",
        "print(my_dict[\"hobby\"])"
      ],
      "execution_count": null,
      "outputs": [
        {
          "output_type": "stream",
          "name": "stdout",
          "text": [
            "['football', 'cricket']\n"
          ]
        }
      ]
    },
    {
      "cell_type": "code",
      "metadata": {
        "colab": {
          "base_uri": "https://localhost:8080/"
        },
        "id": "cUSNbwL7uf-g",
        "outputId": "bc6afb1a-8751-4289-ea02-c5e77f8b944f"
      },
      "source": [
        "my_dict=dict({1:\"amit\",2:\"patel\"})\n",
        "print(my_dict)"
      ],
      "execution_count": null,
      "outputs": [
        {
          "output_type": "stream",
          "name": "stdout",
          "text": [
            "{1: 'amit', 2: 'patel'}\n"
          ]
        }
      ]
    },
    {
      "cell_type": "code",
      "metadata": {
        "colab": {
          "base_uri": "https://localhost:8080/"
        },
        "id": "4-Bn937Qu0c9",
        "outputId": "7175c595-4943-4076-d2e2-54792a6f42ca"
      },
      "source": [
        "my_dict=dict([(1,\"amit\"),(2,\"patel\")])\n",
        "print(my_dict)"
      ],
      "execution_count": null,
      "outputs": [
        {
          "output_type": "stream",
          "name": "stdout",
          "text": [
            "{1: 'amit', 2: 'patel'}\n"
          ]
        }
      ]
    },
    {
      "cell_type": "code",
      "metadata": {
        "colab": {
          "base_uri": "https://localhost:8080/"
        },
        "id": "LCSv3HeQvVug",
        "outputId": "b7eef343-0598-4ec8-b40a-d0dd47468857"
      },
      "source": [
        "my_dict=dict([(1,\"amit\"),(2,\"patel\")])\n",
        "my_dict[\"age\"]=21\n",
        "print(my_dict)"
      ],
      "execution_count": null,
      "outputs": [
        {
          "output_type": "stream",
          "name": "stdout",
          "text": [
            "{1: 'amit', 2: 'patel', 'age': 21}\n"
          ]
        }
      ]
    },
    {
      "cell_type": "code",
      "metadata": {
        "colab": {
          "base_uri": "https://localhost:8080/"
        },
        "id": "dr_kHvvBvrPB",
        "outputId": "4a7c607d-5c92-4848-deca-3237a601f222"
      },
      "source": [
        "my_dict={1:\"amit\",2:\"patel\",5:\"name\"}\n",
        "print(my_dict.pop(5))\n",
        "print(my_dict)\n",
        "print(len(my_dict))"
      ],
      "execution_count": null,
      "outputs": [
        {
          "output_type": "stream",
          "name": "stdout",
          "text": [
            "name\n",
            "{1: 'amit', 2: 'patel'}\n",
            "2\n"
          ]
        }
      ]
    },
    {
      "cell_type": "code",
      "metadata": {
        "colab": {
          "base_uri": "https://localhost:8080/"
        },
        "id": "4KMcJmmTBAvK",
        "outputId": "d185c104-ce8c-4fc1-d0e9-8559c056cb9e"
      },
      "source": [
        "x = my_dict.values()\n",
        "print(x)\n",
        "y= my_dict.keys()\n",
        "print(y)"
      ],
      "execution_count": null,
      "outputs": [
        {
          "output_type": "stream",
          "name": "stdout",
          "text": [
            "dict_values(['amit', 'patel', 'CS', 21])\n",
            "dict_keys([1, 2, 'Field', 'age'])\n"
          ]
        }
      ]
    },
    {
      "cell_type": "code",
      "metadata": {
        "colab": {
          "base_uri": "https://localhost:8080/"
        },
        "id": "xVFfB-WK_V-R",
        "outputId": "93dd3775-5d6a-4610-8d0d-cbf0ffbe1695"
      },
      "source": [
        "x= my_dict.get(1)\n",
        "print (x)\n",
        "x= my_dict.keys()\n",
        "print (x)\n",
        "my_dict[\"Field\"]=\"CS\"\n",
        "my_dict[\"age\"]=21\n",
        "print (x)\n",
        "print(my_dict)"
      ],
      "execution_count": null,
      "outputs": [
        {
          "output_type": "stream",
          "name": "stdout",
          "text": [
            "amit\n",
            "dict_keys([1, 2, 'Field'])\n",
            "dict_keys([1, 2, 'Field', 'age'])\n",
            "{1: 'amit', 2: 'patel', 'Field': 'CS', 'age': 21}\n"
          ]
        }
      ]
    },
    {
      "cell_type": "code",
      "metadata": {
        "colab": {
          "base_uri": "https://localhost:8080/"
        },
        "id": "455mR8duwXXk",
        "outputId": "07835834-c1ee-485f-e201-e4ee228b4fe1"
      },
      "source": [
        "my_dict={1:\"amit\",2:\"patel\",5:\"name\"}\n",
        "print(my_dict.popitem())\n",
        "print(my_dict)"
      ],
      "execution_count": null,
      "outputs": [
        {
          "output_type": "stream",
          "name": "stdout",
          "text": [
            "(5, 'name')\n",
            "{1: 'amit', 2: 'patel'}\n"
          ]
        }
      ]
    },
    {
      "cell_type": "code",
      "metadata": {
        "colab": {
          "base_uri": "https://localhost:8080/"
        },
        "id": "uUzm8AJywjNL",
        "outputId": "7d106349-f556-4251-e755-ee72ca73285d"
      },
      "source": [
        "my_dict={1:\"amit\",2:\"patel\",5:\"name\"}\n",
        "my_dict.clear()\n",
        "print(my_dict)"
      ],
      "execution_count": null,
      "outputs": [
        {
          "output_type": "stream",
          "name": "stdout",
          "text": [
            "{}\n"
          ]
        }
      ]
    },
    {
      "cell_type": "code",
      "metadata": {
        "id": "wOwufgZYxIuq"
      },
      "source": [
        "my_dict={1:\"amit\",2:\"patel\",5:\"name\"}\n",
        "del my_dict\n"
      ],
      "execution_count": null,
      "outputs": []
    },
    {
      "cell_type": "code",
      "metadata": {
        "id": "EFjJhWfnxKfx",
        "colab": {
          "base_uri": "https://localhost:8080/"
        },
        "outputId": "90eacd02-e5d9-4dcd-ac77-0cfe11a22c4b"
      },
      "source": [
        "my_dict={1:\"amit\",2:\"patel\",5:\"name\"}\n",
        "for i in my_dict.values():\n",
        "  print(i)"
      ],
      "execution_count": null,
      "outputs": [
        {
          "output_type": "stream",
          "name": "stdout",
          "text": [
            "amit\n",
            "patel\n",
            "name\n"
          ]
        }
      ]
    },
    {
      "cell_type": "code",
      "metadata": {
        "colab": {
          "base_uri": "https://localhost:8080/"
        },
        "id": "lwbbBELZ_Sen",
        "outputId": "8d8f6365-99cc-4ae4-ca43-a6ba3eeff6d8"
      },
      "source": [
        "my_dict={1:\"amit\",2:\"patel\",5:\"name\"}\n",
        "for i in my_dict.keys():\n",
        "  print(i)"
      ],
      "execution_count": null,
      "outputs": [
        {
          "output_type": "stream",
          "name": "stdout",
          "text": [
            "1\n",
            "2\n",
            "5\n"
          ]
        }
      ]
    },
    {
      "cell_type": "code",
      "metadata": {
        "colab": {
          "base_uri": "https://localhost:8080/"
        },
        "id": "2RerZrMR_a4C",
        "outputId": "cfe6f115-e1f4-4c70-839b-215fd78bf2aa"
      },
      "source": [
        "my_dict={1:\"amit\",2:\"patel\",5:\"name\"}\n",
        "for i in my_dict.keys():\n",
        "  print(i ,\" : \",my_dict[i])"
      ],
      "execution_count": null,
      "outputs": [
        {
          "output_type": "stream",
          "name": "stdout",
          "text": [
            "1  :  amit\n",
            "2  :  patel\n",
            "5  :  name\n"
          ]
        }
      ]
    },
    {
      "cell_type": "code",
      "metadata": {
        "colab": {
          "base_uri": "https://localhost:8080/"
        },
        "id": "MLN5Up4B_-mx",
        "outputId": "b478024b-ec78-4a7d-ab70-9cc4fa464a49"
      },
      "source": [
        "my_dict={1:\"amit\",2:\"patel\",5:\"name\"}\n",
        "for x, y in my_dict.items():\n",
        "  print(x,\" : \", y)"
      ],
      "execution_count": null,
      "outputs": [
        {
          "output_type": "stream",
          "name": "stdout",
          "text": [
            "1  :  amit\n",
            "2  :  patel\n",
            "5  :  name\n"
          ]
        }
      ]
    },
    {
      "cell_type": "code",
      "metadata": {
        "colab": {
          "base_uri": "https://localhost:8080/"
        },
        "id": "h6c42SBTA1wT",
        "outputId": "f3326f3b-2c20-4e37-c710-f7c1883c80ec"
      },
      "source": [
        "myDict = {x: x**2 for x in [1,2,3,4,5]}\n",
        "print (myDict)"
      ],
      "execution_count": null,
      "outputs": [
        {
          "output_type": "stream",
          "name": "stdout",
          "text": [
            "{1: 1, 2: 4, 3: 9, 4: 16, 5: 25}\n"
          ]
        }
      ]
    },
    {
      "cell_type": "code",
      "metadata": {
        "colab": {
          "base_uri": "https://localhost:8080/"
        },
        "id": "xF9VFN7QBAn_",
        "outputId": "19dcd770-b44f-4889-a68e-8b214fc38ec7"
      },
      "source": [
        "li=[1,2,3,4,5]\n",
        "myDict = {x: x**3 for x in li}\n",
        "print (myDict)"
      ],
      "execution_count": null,
      "outputs": [
        {
          "output_type": "stream",
          "name": "stdout",
          "text": [
            "{1: 1, 2: 8, 3: 27, 4: 64, 5: 125}\n"
          ]
        }
      ]
    }
  ]
}