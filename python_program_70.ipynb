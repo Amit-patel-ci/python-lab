{
  "nbformat": 4,
  "nbformat_minor": 0,
  "metadata": {
    "colab": {
      "name": "python_program_15.ipynb",
      "provenance": [],
      "collapsed_sections": []
    },
    "kernelspec": {
      "name": "python3",
      "display_name": "Python 3"
    },
    "language_info": {
      "name": "python"
    }
  },
  "cells": [
    {
      "cell_type": "code",
      "metadata": {
        "colab": {
          "base_uri": "https://localhost:8080/"
        },
        "id": "JkP_IQeEPmlD",
        "outputId": "0152cbd0-bc23-4397-9c4d-01112a033c42"
      },
      "source": [
        "#1.Display float number with 2 decimal places using print()\n",
        "val = float(input(\"Enter any number: \"))\n",
        "format_float = \"{:.2f}\".format(val)\n",
        "print(format_float)"
      ],
      "execution_count": null,
      "outputs": [
        {
          "output_type": "stream",
          "name": "stdout",
          "text": [
            "Enter any number: 5.2\n",
            "5.20\n"
          ]
        }
      ]
    },
    {
      "cell_type": "code",
      "metadata": {
        "colab": {
          "base_uri": "https://localhost:8080/"
        },
        "id": "aEIhe2VXPxlk",
        "outputId": "4b4fc375-a1fd-4a5e-acf4-ba014c23a851"
      },
      "source": [
        "#2.Takes two integer numbers and  return their product.\n",
        "val1=3\n",
        "val2=4\n",
        "def prod(x,y):\n",
        "  return x*y\n",
        "print(prod(val1,val2))"
      ],
      "execution_count": null,
      "outputs": [
        {
          "output_type": "stream",
          "name": "stdout",
          "text": [
            "12\n"
          ]
        }
      ]
    },
    {
      "cell_type": "code",
      "metadata": {
        "colab": {
          "base_uri": "https://localhost:8080/"
        },
        "id": "Qm2eh-gWQV0M",
        "outputId": "ce5bae88-30d9-47cb-82b8-df0269a5abb5"
      },
      "source": [
        "#3.Write a Python program to get the volume of a sphere with radius 10.\n",
        "pi = 3.1415926535897931\n",
        "r= 10\n",
        "V= 4.0/3.0*pi* r**3\n",
        "print('The volume of the sphere is: ',V)"
      ],
      "execution_count": null,
      "outputs": [
        {
          "output_type": "stream",
          "name": "stdout",
          "text": [
            "The volume of the sphere is:  4188.790204786391\n"
          ]
        }
      ]
    },
    {
      "cell_type": "code",
      "metadata": {
        "colab": {
          "base_uri": "https://localhost:8080/"
        },
        "id": "gDawy-K_TXd5",
        "outputId": "8b5215fe-c467-4eb9-e082-80dfed638859"
      },
      "source": [
        "#4.Accept two numbers from the user and multiply them together.\n",
        "val1=int(input(\"enter no. : \"))\n",
        "val2=int(input(\"enter no. : \"))\n",
        "def prod(x,y):\n",
        "  return x*y\n",
        "print(prod(val1,val2))\n"
      ],
      "execution_count": null,
      "outputs": [
        {
          "output_type": "stream",
          "name": "stdout",
          "text": [
            "enter no. : 2\n",
            "enter no. : 3\n",
            "6\n"
          ]
        }
      ]
    },
    {
      "cell_type": "code",
      "metadata": {
        "colab": {
          "base_uri": "https://localhost:8080/"
        },
        "id": "_Mu8GK7dQ1xB",
        "outputId": "55c695e7-e00f-47d1-9c4c-e998e266440a"
      },
      "source": [
        "#5.Write a Python program that accepts an integer (a) and computes the value of a+aa+aaa.\n",
        "a=int(input(\"enter any integer no. :\"))\n",
        "print(a+(a*a)+(a*a*a))\n"
      ],
      "execution_count": null,
      "outputs": [
        {
          "output_type": "stream",
          "name": "stdout",
          "text": [
            "enter any integer no. :2\n",
            "14\n"
          ]
        }
      ]
    },
    {
      "cell_type": "code",
      "metadata": {
        "colab": {
          "base_uri": "https://localhost:8080/"
        },
        "id": "KPp75pCbRsUV",
        "outputId": "35237cec-f716-4c59-dc7a-048d660659e5"
      },
      "source": [
        "#6.Write a Python program to calculate the length of a string\n",
        "string=\"amit patel\"\n",
        "print(len(string))\n"
      ],
      "execution_count": null,
      "outputs": [
        {
          "output_type": "stream",
          "name": "stdout",
          "text": [
            "10\n"
          ]
        }
      ]
    },
    {
      "cell_type": "code",
      "metadata": {
        "colab": {
          "base_uri": "https://localhost:8080/"
        },
        "id": "uLvUjQj9SLaw",
        "outputId": "fafccdc2-1791-4629-ad21-644e61dafc82"
      },
      "source": [
        "#7.Write a Python program to parse a string to Float & Integer\n",
        "a = \"1500\"\n",
        "b = int(a)\n",
        "c = float(a)\n",
        "\n",
        "print(type(b))\n",
        "print(b)\n",
        "\n",
        "print(type(c))\n",
        "print(c)"
      ],
      "execution_count": null,
      "outputs": [
        {
          "output_type": "stream",
          "name": "stdout",
          "text": [
            "<class 'int'>\n",
            "1500\n",
            "<class 'float'>\n",
            "1500.0\n"
          ]
        }
      ]
    },
    {
      "cell_type": "code",
      "metadata": {
        "colab": {
          "base_uri": "https://localhost:8080/"
        },
        "id": "99XR21tVT8sv",
        "outputId": "94bf13ac-25bc-489b-aaab-489bae9c8463"
      },
      "source": [
        "#8.Given two integer numbers return their sum. If the sum is greater than 100, then return their product.\n",
        "val1=3\n",
        "val2=97\n",
        "def prod(x,y):\n",
        "  return x*y\n",
        "def sum(x,y):\n",
        "  return x+y\n",
        "sum=sum(val1,val2)\n",
        "if(sum>100):\n",
        "  print(\"product :\",prod(val1,val2))\n",
        "else:\n",
        "  print(\"sum :\",sum)"
      ],
      "execution_count": null,
      "outputs": [
        {
          "output_type": "stream",
          "name": "stdout",
          "text": [
            "sum : 100\n"
          ]
        }
      ]
    },
    {
      "cell_type": "code",
      "metadata": {
        "colab": {
          "base_uri": "https://localhost:8080/"
        },
        "id": "NdaCHyG9VO1R",
        "outputId": "4c315979-4269-4454-8de5-1f26a537d499"
      },
      "source": [
        "#9.Write a Python program to calculate the sum of three given numbers, if the values are not - equal then return four times of their sum\n",
        "a=5\n",
        "b=2\n",
        "c=5\n",
        "\n",
        "def sum(x,y,z):\n",
        "  return x+y+z\n",
        "sum=sum(a,b,c)\n",
        "if(a==b and a==c):\n",
        "  print(\"sum :\",sum)\n",
        "else:\n",
        "  print(\"sum :\",sum*4)"
      ],
      "execution_count": null,
      "outputs": [
        {
          "output_type": "stream",
          "name": "stdout",
          "text": [
            "sum : 48\n"
          ]
        }
      ]
    },
    {
      "cell_type": "code",
      "metadata": {
        "colab": {
          "base_uri": "https://localhost:8080/"
        },
        "id": "pD1Tiwd5W9J_",
        "outputId": "8877ea87-682a-4aec-d376-4e607bf6ec5e"
      },
      "source": [
        "#10.A shop will give discount of 50% if the cost of purchased quantity is more than 10000. Ask user for quantity suppose, one unit will cost 100. Judge and print total cost for user.\n",
        "quantity=int(input(\"enter quantity of item :\"))\n",
        "price=quantity*100\n",
        "if(price>10000):\n",
        "  print(\"total price is :\",(price/100)*50)\n",
        "else:\n",
        "  print(\"total price is :\",price)"
      ],
      "execution_count": null,
      "outputs": [
        {
          "output_type": "stream",
          "name": "stdout",
          "text": [
            "enter quantity of item :101\n",
            "total price is : 5050.0\n"
          ]
        }
      ]
    },
    {
      "cell_type": "code",
      "metadata": {
        "colab": {
          "base_uri": "https://localhost:8080/"
        },
        "id": "cxBDI4LEZOiS",
        "outputId": "24d5fa74-d873-4189-a386-f47fd54726fb"
      },
      "source": [
        "#11.To check whether a number is divisible by 8 and 12 or not.\n",
        "a=int(input(\"enter any no. :\"))\n",
        "if(a%8==0 and a%12==0):\n",
        "  print(\"{0} number is divisible by 8 and 12\".format(a))\n",
        "else:\n",
        "  print(\"{0} number is not divisible by 8 and 12\".format(a))"
      ],
      "execution_count": null,
      "outputs": [
        {
          "output_type": "stream",
          "name": "stdout",
          "text": [
            "enter any no. :24\n",
            "24 number is divisible by 8 and 12\n"
          ]
        }
      ]
    },
    {
      "cell_type": "code",
      "metadata": {
        "colab": {
          "base_uri": "https://localhost:8080/"
        },
        "id": "NAsnTMs2ZB9L",
        "outputId": "de977f49-8280-41a4-c9a6-1db272ae49c5"
      },
      "source": [
        "#12.To check whether a given number is even or odd.\n",
        "num = int(input(\"Enter a number to check even or odd:- \"))\n",
        "if (num % 2) == 0:\n",
        "   print(\"{0} is Even number\".format(num))\n",
        "else:\n",
        "   print(\"{0} is Odd number\".format(num))"
      ],
      "execution_count": null,
      "outputs": [
        {
          "output_type": "stream",
          "name": "stdout",
          "text": [
            "Enter a number to check even or odd:- 4\n",
            "4 is Even number\n"
          ]
        }
      ]
    },
    {
      "cell_type": "code",
      "metadata": {
        "colab": {
          "base_uri": "https://localhost:8080/"
        },
        "id": "IsVziD3gbVoa",
        "outputId": "e03e4bfc-780a-4221-8030-5b31aa71eefa"
      },
      "source": [
        "'''13.Write a program to input marks of five subjects Physics, Chemistry, Biology, Mathematics and Computer. Calculate percentage and grade according to following:\n",
        "Percentage >= 90% : Grade A\n",
        "Percentage >= 80% : Grade B\n",
        "Percentage >= 70% : Grade C\n",
        "Percentage >= 60% : Grade D\n",
        "Percentage >= 40% : Grade E\n",
        "Percentage < 40% :  Grade F'''\n",
        "\n",
        "phy=int(input(\"enter physics marks :\"))\n",
        "chem=int(input(\"enter chemistry marks :\")) \n",
        "bio=int(input(\"enter biology marks :\"))\n",
        "math=int(input(\"enter marhematics marks :\"))\n",
        "comp=int(input(\"enter computer marks :\"))\n",
        "per = (phy + chem + bio + math + comp) / 5.0\n",
        "print(\"Percentage = \", per)\n",
        "\n",
        "if(per >= 90):\n",
        "  print(\"Grade A\");\n",
        "elif(per >= 80):\n",
        "  print(\"Grade B\");\n",
        "elif(per >= 70):\n",
        "  print(\"Grade C\");\n",
        "elif(per >= 60):\n",
        "  print(\"Grade D\");\n",
        "elif(per >= 40):\n",
        "  print(\"Grade E\");\n",
        "else:\n",
        "  print(\"Grade F\")"
      ],
      "execution_count": null,
      "outputs": [
        {
          "output_type": "stream",
          "name": "stdout",
          "text": [
            "enter physics marks :60\n",
            "enter chemistry marks :30\n",
            "enter biology marks :25\n",
            "enter marhematics marks :54\n",
            "enter computer marks :64\n",
            "Percentage =  46.6\n",
            "Grade E\n"
          ]
        }
      ]
    },
    {
      "cell_type": "code",
      "metadata": {
        "colab": {
          "base_uri": "https://localhost:8080/"
        },
        "id": "7Ep0UTU6evvW",
        "outputId": "e8516edb-1565-44c0-cc7e-55ae0a73a0f3"
      },
      "source": [
        "#14.Take input of age of 3 people by user and determine oldest and youngest among them.\n",
        "person1 = int(input(\"Enter age of person 1 : \"))\n",
        "person2 = int(input(\"Enter age of person 2 : \"))\n",
        "person3 = int(input(\"Enter age of person 3 : \"))\n",
        "\n",
        "# check oldest\n",
        "if person1 > person2 and person1 > person3:\n",
        "    print(\"Person 1 is oldest\")\n",
        "elif person2 > person1 and person2 > person3:\n",
        "    print(\"Person 2 is oldest\")\n",
        "elif person3 > person1 and person3 > person2:\n",
        "    print(\"Person 3 is oldest\")\n",
        "\n",
        "# check youngest\n",
        "if person1 < person2 and person1 < person3:\n",
        "    print(\"Person 1 is youngest\")\n",
        "elif person2 < person1 and person2 < person3:\n",
        "    print(\"Person 2 is youngest\")\n",
        "elif person3 < person1 and person3 < person2:\n",
        "    print(\"Person 3 is youngest\")"
      ],
      "execution_count": null,
      "outputs": [
        {
          "output_type": "stream",
          "name": "stdout",
          "text": [
            "Enter age of person 1 : 2\n",
            "Enter age of person 2 : 99\n",
            "Enter age of person 3 : 43\n",
            "Person 2 is oldest\n",
            "Person 1 is youngest\n"
          ]
        }
      ]
    },
    {
      "cell_type": "code",
      "metadata": {
        "colab": {
          "base_uri": "https://localhost:8080/"
        },
        "id": "uH2yS0axe3nw",
        "outputId": "65375900-e849-4655-f923-a853b0772e9c"
      },
      "source": [
        "'''15.Write a program to input electricity unit charges and calculate total electricity bill according to the given condition:\n",
        "For first 50 units Rs. 0.50/unit\n",
        "For next 100 units Rs. 0.75/unit\n",
        "For next 100 units Rs. 1.20/unit\n",
        "For unit above 250 Rs. 1.50/unit\n",
        "An additional surcharge of 20% is added to the bill'''\n",
        "unit = int(input(\"enter units of electricity : \"))\n",
        "if(unit<=50):\n",
        "  bill=unit*0.50\n",
        "  totalbill=bill+(bill/100)*20\n",
        "  print(\"electricity bill is \",totalbill)\n",
        "elif(unit<=150):\n",
        "  bill=unit*0.75\n",
        "  totalbill=bill+(bill/100)*20\n",
        "  print(\"electricity bill is \",totalbill)\n",
        "elif(unit<=250):\n",
        "  bill=unit*1.20\n",
        "  totalbill=bill+(bill/100)*20\n",
        "  print(\"electricity bill is \",totalbill)\n",
        "elif(unit>250):\n",
        "  bill=unit*1.50\n",
        "  totalbill=bill+(bill/100)*20\n",
        "  print(\"electricity bill is \",totalbill)"
      ],
      "execution_count": null,
      "outputs": [
        {
          "output_type": "stream",
          "name": "stdout",
          "text": [
            "enter units of electricity : 2000\n",
            "electricity bill is  3600.0\n"
          ]
        }
      ]
    },
    {
      "cell_type": "code",
      "metadata": {
        "colab": {
          "base_uri": "https://localhost:8080/"
        },
        "id": "dNsIRctwxJdv",
        "outputId": "9e5f39f4-aab3-4fc0-f2d2-d4ac8031cd01"
      },
      "source": [
        "# 16. A student will not be allowed to sit in exam if his/her attendence is less than 80%.\n",
        "# Take following input from user\n",
        "# Total Number of classes held\n",
        "# Total Number of classes attended. And print percentage of class attended. Is student is allowed to sit in exam or not.\n",
        "\n",
        "a=int(input(\"Number of classes held:\"))\n",
        "\n",
        "b=int(input(\"Number of classes attended:\"))\n",
        "\n",
        "percentage=b/a*100\n",
        "\n",
        "if percentage>=80:\n",
        "\n",
        "        print(\"The student is allowed to sit in the exam hall\")\n",
        "\n",
        "else:\n",
        "\n",
        "        print(\"The student is not allowed to sit in the exam hall\")"
      ],
      "execution_count": null,
      "outputs": [
        {
          "output_type": "stream",
          "name": "stdout",
          "text": [
            "Number of classes held:10\n",
            "Number of classes attended:9\n",
            "The student is allowed to sit in the exam hall\n"
          ]
        }
      ]
    },
    {
      "cell_type": "code",
      "metadata": {
        "colab": {
          "base_uri": "https://localhost:8080/"
        },
        "id": "67V9kr3yyQoM",
        "outputId": "baef67d0-1ff8-496e-bf8b-5fcb95f789dc"
      },
      "source": [
        "#17. Calculate income tax for the given income by adhering to the below rules\n",
        "# Taxable Income        Rate (in %)\n",
        "# First Rs.10,0000         0\n",
        "# Next Rs. 10,0000       10\n",
        "# The remaining           20\n",
        "\n",
        "income=int(input(\"enter income :\"))\n",
        "\n",
        "if (income <= 100000):\n",
        "  tax = 0\n",
        "\n",
        "elif (income <= 200000):\n",
        "  tax = (income*10)/100\n",
        "\n",
        "else :\n",
        "  tax = (income *20)/100\n",
        "\n",
        "print(\"you owe\", tax, \"Rupees in tax!\")"
      ],
      "execution_count": null,
      "outputs": [
        {
          "output_type": "stream",
          "name": "stdout",
          "text": [
            "enter income :500000\n",
            "you owe 100000.0 Rupees in tax!\n"
          ]
        }
      ]
    },
    {
      "cell_type": "code",
      "metadata": {
        "colab": {
          "base_uri": "https://localhost:8080/"
        },
        "id": "wWMnh18K1rra",
        "outputId": "5ae9ac95-2b2c-4a3d-b67a-5023b7903f7b"
      },
      "source": [
        "#18. Program to find digital sum of a given Number\n",
        "#    ex: n=123  Digital sum----->1+2+3=6\n",
        "def getsum(n):\n",
        "  sum=0\n",
        "  num = str(n)\n",
        "  for i in num:\n",
        "    sum = sum + int(i)\n",
        "  return sum\n",
        "  \n",
        "n=int(input(\"Enter the number:\"))\n",
        "print(getsum(n))\n"
      ],
      "execution_count": null,
      "outputs": [
        {
          "output_type": "stream",
          "name": "stdout",
          "text": [
            "Enter the number:123\n",
            "6\n"
          ]
        }
      ]
    },
    {
      "cell_type": "code",
      "metadata": {
        "colab": {
          "base_uri": "https://localhost:8080/"
        },
        "id": "vVa6mFAh1scB",
        "outputId": "ae8fa098-7394-4293-d673-82a917435940"
      },
      "source": [
        "#19. Program to find the digital product of a given number\n",
        "#    ex: n=43   Digital product ----->4*3=12\n",
        "def getProduct(n):\n",
        "  product = 1\n",
        "  num = str(n)\n",
        "  for i in num:\n",
        "    product = product * int(i)\n",
        "  return product\n",
        "  \n",
        "n=int(input(\"Enter the number:\"))\n",
        "print(getProduct(n))"
      ],
      "execution_count": null,
      "outputs": [
        {
          "output_type": "stream",
          "name": "stdout",
          "text": [
            "Enter the number:43\n",
            "12\n"
          ]
        }
      ]
    },
    {
      "cell_type": "code",
      "metadata": {
        "colab": {
          "base_uri": "https://localhost:8080/"
        },
        "id": "82ONEFnk1SIQ",
        "outputId": "0b33aeb9-af2f-4a5a-da12-24ee0d31af70"
      },
      "source": [
        "# 20.Find the sum of the series 3 +33 + 333 + 3333 + .. n terms\n",
        "n=int(input(\"Enter the range of number:\"))\n",
        "sum=0\n",
        "p=3\n",
        "for i in range(1,n+1):\n",
        "    sum += p\n",
        "    p=(p*10)+3\n",
        "print(\"The sum of the series = \",sum)"
      ],
      "execution_count": null,
      "outputs": [
        {
          "output_type": "stream",
          "name": "stdout",
          "text": [
            "Enter the range of number:3\n",
            "The sum of the series =  369\n"
          ]
        }
      ]
    },
    {
      "cell_type": "code",
      "metadata": {
        "colab": {
          "base_uri": "https://localhost:8080/"
        },
        "id": "BNQXaqB74MQa",
        "outputId": "082eafa0-1c64-4cb6-a1a5-6a36bb4980b8"
      },
      "source": [
        "#21.Print the following pattern\n",
        "# * \n",
        "# * * \n",
        "# * * * \n",
        "# * * * * \n",
        "# * * * * * \n",
        "# * * * * \n",
        "# * * * \n",
        "# * * \n",
        "# *\n",
        "\n",
        "rows = 5\n",
        "for i in range(0, rows):\n",
        "    for j in range(0, i + 1):\n",
        "        print(\"*\", end=' ')\n",
        "    print(\"\\r\")\n",
        "\n",
        "for i in range(rows, 0, -1):\n",
        "    for j in range(0, i - 1):\n",
        "        print(\"*\", end=' ')\n",
        "    print(\"\\r\")\n",
        "\n"
      ],
      "execution_count": null,
      "outputs": [
        {
          "output_type": "stream",
          "name": "stdout",
          "text": [
            "* \r\n",
            "* * \r\n",
            "* * * \r\n",
            "* * * * \r\n",
            "* * * * * \r\n",
            "* * * * \r\n",
            "* * * \r\n",
            "* * \r\n",
            "* \r\n",
            "\r\n"
          ]
        }
      ]
    },
    {
      "cell_type": "code",
      "metadata": {
        "colab": {
          "base_uri": "https://localhost:8080/"
        },
        "id": "GcJ-6RHeVvfw",
        "outputId": "4c58f47c-8ca6-4614-8568-34c2ab69d9e7"
      },
      "source": [
        "#22. Program to reverse a given Number.    ex: n=123   Reversed no is 321\n",
        "n = 4562\n",
        "rev = 0\n",
        " \n",
        "while(n > 0):\n",
        "    a = n % 10\n",
        "    rev = rev * 10 + a\n",
        "    n = n // 10\n",
        " \n",
        "print(rev)\n"
      ],
      "execution_count": null,
      "outputs": [
        {
          "output_type": "stream",
          "name": "stdout",
          "text": [
            "2654\n"
          ]
        }
      ]
    },
    {
      "cell_type": "code",
      "metadata": {
        "colab": {
          "base_uri": "https://localhost:8080/"
        },
        "id": "P9H_TiAeVvbu",
        "outputId": "7839f956-ce13-4d7b-8cb8-6a2b763e6160"
      },
      "source": [
        "#23.Program to check whether a given number is a palindrome or not\n",
        "\n",
        "def reverseDigits(num) :\n",
        "\trev_num = 0;\n",
        "\twhile (num > 0) :\n",
        "\t\trev_num = rev_num * 10 + num % 10\n",
        "\t\tnum = num // 10\t\n",
        "\treturn rev_num\n",
        "\n",
        "def isPalindrome(n) :\n",
        "\trev_n = reverseDigits(n);\n",
        "\tif (rev_n == n) :\n",
        "\t\treturn 1\n",
        "\telse :\n",
        "\t\treturn 0\n",
        "\n",
        "\n",
        "n = 121\t\n",
        "if isPalindrome(n) == 1 :\n",
        "  print(\"Is\", n, \"a Palindrome number? ->\", True)\n",
        "\t\t\n",
        "else :\n",
        "  print(\"Is\", n, \"a Palindrome number? ->\", False)\n"
      ],
      "execution_count": null,
      "outputs": [
        {
          "output_type": "stream",
          "name": "stdout",
          "text": [
            "Is 121 a Palindrome number? -> True\n"
          ]
        }
      ]
    },
    {
      "cell_type": "code",
      "metadata": {
        "colab": {
          "base_uri": "https://localhost:8080/"
        },
        "id": "I6xUyN6hVvXg",
        "outputId": "d8945574-b7a2-4e34-ce75-5d63df76e904"
      },
      "source": [
        "#24.Program to check whether a given number is an Armstrong number or not.\n",
        "num = int(input(\"Enter a number: \"))\n",
        "sum = 0\n",
        "\n",
        "temp = num\n",
        "while temp > 0:\n",
        "   digit = temp % 10\n",
        "   sum += digit ** 3\n",
        "   temp //= 10\n",
        "\n",
        "if num == sum:\n",
        "   print(num,\"is an Armstrong number\")\n",
        "else:\n",
        "   print(num,\"is not an Armstrong number\")\n"
      ],
      "execution_count": null,
      "outputs": [
        {
          "output_type": "stream",
          "name": "stdout",
          "text": [
            "Enter a number: 407\n",
            "407 is an Armstrong number\n"
          ]
        }
      ]
    },
    {
      "cell_type": "code",
      "metadata": {
        "colab": {
          "base_uri": "https://localhost:8080/"
        },
        "id": "hCc5eNCxVvRU",
        "outputId": "5185879d-ca3e-41b4-82ae-b667e77ff086"
      },
      "source": [
        "#25.Program to find factorial of a given number.\n",
        "fact=1\n",
        "n=5\n",
        "while(n!=0):\n",
        "    fact=fact*n\n",
        "    n=n-1\n",
        "\n",
        "print(\"fact\",fact)\n"
      ],
      "execution_count": null,
      "outputs": [
        {
          "output_type": "stream",
          "name": "stdout",
          "text": [
            "fact 120\n"
          ]
        }
      ]
    },
    {
      "cell_type": "code",
      "metadata": {
        "colab": {
          "base_uri": "https://localhost:8080/"
        },
        "id": "UmqWFn4MVvNl",
        "outputId": "6ca597eb-58c2-4748-d96d-76d4c18808f9"
      },
      "source": [
        "#26)Program to find whether a given number is a strong number or not.\n",
        " # e.g. n=145\n",
        " # 1!+4!+5!==145\n",
        "def factorial(d):\n",
        "   if(d==1 or d==0):\n",
        "      return 1\n",
        "   return d*factorial(d-1)\n",
        "def isStrong(n):\n",
        "   num=n\n",
        "   sm=0\n",
        "   while(n>0):\n",
        "      digit=n%10\n",
        "      sm=sm+factorial(digit)\n",
        "      n=n//10\n",
        "   if(sm==num):\n",
        "      return True\n",
        "   else:\n",
        "      return False\n",
        "print(\"Input a number\")\n",
        "a=int(input())\n",
        "print(isStrong(a))"
      ],
      "execution_count": null,
      "outputs": [
        {
          "output_type": "stream",
          "name": "stdout",
          "text": [
            "Input a number\n",
            "145\n",
            "True\n"
          ]
        }
      ]
    },
    {
      "cell_type": "code",
      "metadata": {
        "colab": {
          "base_uri": "https://localhost:8080/"
        },
        "id": "pX_Foe87VvCN",
        "outputId": "a00c35f3-cb24-4a0c-956a-5084b514a714"
      },
      "source": [
        "#27. Program to find whether a given number is a unique number. For example, 20, 56, 9863, 145, etc. are the unique numbers\n",
        "#while 33, 121, 900, 1010, etc. are not unique numbers\n",
        "\n",
        "visited = [0,0,0,0,0,0,0,0,0,0];\n",
        "num=20\n",
        "while (num):\n",
        "  if visited[num % 10] == 1:\n",
        "    break;\n",
        "  visited[num % 10] = 1;\n",
        "  num = (int)(num / 10);\n",
        "\n",
        "if num == 0:\n",
        "  print(\"no. is unique\");\n",
        "else:\n",
        "  print(\"no. is not unique\")\n",
        "\n",
        "\n"
      ],
      "execution_count": null,
      "outputs": [
        {
          "output_type": "stream",
          "name": "stdout",
          "text": [
            "no. is not unique\n"
          ]
        }
      ]
    },
    {
      "cell_type": "code",
      "metadata": {
        "colab": {
          "base_uri": "https://localhost:8080/"
        },
        "id": "9t2xTR9MVuwG",
        "outputId": "d940e98d-0992-4524-da8e-35aca218e621"
      },
      "source": [
        "#28)Program to find whether a given number is a perfect number or not.\n",
        "def perfect_number(n):\n",
        "    sum = 0\n",
        "    for x in range(1, n):\n",
        "        if n % x == 0:\n",
        "            sum += x\n",
        "    return sum == n\n",
        "print(perfect_number(6))"
      ],
      "execution_count": null,
      "outputs": [
        {
          "output_type": "stream",
          "name": "stdout",
          "text": [
            "True\n"
          ]
        }
      ]
    },
    {
      "cell_type": "code",
      "metadata": {
        "colab": {
          "base_uri": "https://localhost:8080/"
        },
        "id": "BTcLhPxVY-VD",
        "outputId": "4944b996-677b-4f72-8718-41f366504b32"
      },
      "source": [
        "#29)Program to find whether a given number is a prime number or not.\n",
        "num = 11\n",
        "if num > 1:\n",
        "    for i in range(2, int(num/2)+1):\n",
        "        if (num % i) == 0:\n",
        "            print(num, \"is not a prime number\")\n",
        "            break\n",
        "    else:\n",
        "        print(num, \"is a prime number\")\n",
        "  \n",
        "else:\n",
        "    print(num, \"is not a prime number\")"
      ],
      "execution_count": null,
      "outputs": [
        {
          "output_type": "stream",
          "name": "stdout",
          "text": [
            "11 is a prime number\n"
          ]
        }
      ]
    },
    {
      "cell_type": "code",
      "metadata": {
        "colab": {
          "base_uri": "https://localhost:8080/"
        },
        "id": "ZPv9Na10ZAPv",
        "outputId": "6a31e2e3-7e49-4c6f-ae3a-86412c9e0eb6"
      },
      "source": [
        "'''30)Print downward Half-Pyramid Pattern with Star (asterisk)\n",
        "* * * * *  \n",
        "* * * *  \n",
        "* * *  \n",
        "* *  \n",
        "*'''\n",
        "rows = 5 \n",
        "for i in range(rows + 1, 0, -1):    \n",
        "    for j in range(0, i - 1):  \n",
        "        print(\"*\", end=' ')  \n",
        "    print(\" \") "
      ],
      "execution_count": null,
      "outputs": [
        {
          "output_type": "stream",
          "name": "stdout",
          "text": [
            "* * * * *  \n",
            "* * * *  \n",
            "* * *  \n",
            "* *  \n",
            "*  \n",
            " \n"
          ]
        }
      ]
    },
    {
      "cell_type": "code",
      "metadata": {
        "colab": {
          "base_uri": "https://localhost:8080/"
        },
        "id": "9cNDXpBaSePu",
        "outputId": "52cd343c-fac5-4539-bb8a-910f20867825"
      },
      "source": [
        "# 31)Print  following pattern: \n",
        "# 1\n",
        "# 22\n",
        "# 333\n",
        "# 4444\n",
        "# 55555\n",
        "# 666666\n",
        "# 7777777\n",
        "# 88888888\n",
        "# 999999999\n",
        "for i in range(10):\n",
        "    print(str(i) * i)"
      ],
      "execution_count": null,
      "outputs": [
        {
          "output_type": "stream",
          "name": "stdout",
          "text": [
            "\n",
            "1\n",
            "22\n",
            "333\n",
            "4444\n",
            "55555\n",
            "666666\n",
            "7777777\n",
            "88888888\n",
            "999999999\n"
          ]
        }
      ]
    },
    {
      "cell_type": "code",
      "metadata": {
        "colab": {
          "base_uri": "https://localhost:8080/"
        },
        "id": "pGUjF88dSmRl",
        "outputId": "baa90d4d-cbd9-46e9-8615-a6528da0836c"
      },
      "source": [
        "'''32)Print  following pattern: \n",
        "1\n",
        "12\n",
        "123\n",
        "1234\n",
        "12345\n",
        "123456\n",
        "1234567\n",
        "12345678\n",
        "123456789'''\n",
        "for i in range(1,9+1):\n",
        "    for j in range(1, i+1):\n",
        "        print(j, end=\"\")\n",
        "    print()"
      ],
      "execution_count": null,
      "outputs": [
        {
          "output_type": "stream",
          "name": "stdout",
          "text": [
            "1\n",
            "12\n",
            "123\n",
            "1234\n",
            "12345\n",
            "123456\n",
            "1234567\n",
            "12345678\n",
            "123456789\n"
          ]
        }
      ]
    },
    {
      "cell_type": "code",
      "metadata": {
        "colab": {
          "base_uri": "https://localhost:8080/"
        },
        "id": "-a4vrAKDSl9U",
        "outputId": "095ed021-112b-41df-97d9-7b7f060853ee"
      },
      "source": [
        "'''33)Print following pattern: \n",
        "A\n",
        "BB\n",
        "CCC\n",
        "DDDD\n",
        "EEEEE\n",
        "FFFFFF\n",
        "GGGGGGG\n",
        "HHHHHHHH'''\n",
        "\n",
        "for i in range(8):    \n",
        "      print((chr(65+i)+\"\")*(i+1))"
      ],
      "execution_count": null,
      "outputs": [
        {
          "output_type": "stream",
          "name": "stdout",
          "text": [
            "A\n",
            "BB\n",
            "CCC\n",
            "DDDD\n",
            "EEEEE\n",
            "FFFFFF\n",
            "GGGGGGG\n",
            "HHHHHHHH\n"
          ]
        }
      ]
    },
    {
      "cell_type": "code",
      "metadata": {
        "colab": {
          "base_uri": "https://localhost:8080/"
        },
        "id": "1w6x3M4GSlWm",
        "outputId": "f74e85c2-9f45-4320-e6fb-ae9d99aa8ff4"
      },
      "source": [
        "#34)Write a Python program to calculate the length of a given string.\n",
        "str = \"Amit\"\n",
        "print(len(str))"
      ],
      "execution_count": null,
      "outputs": [
        {
          "output_type": "stream",
          "name": "stdout",
          "text": [
            "4\n"
          ]
        }
      ]
    },
    {
      "cell_type": "code",
      "metadata": {
        "colab": {
          "base_uri": "https://localhost:8080/"
        },
        "id": "fVAm6tHp4ifX",
        "outputId": "57946cab-ba2f-43a0-97e4-d1ee377d0126"
      },
      "source": [
        "#35.Write a Python program to get a single string from two given strings, separated by a space and swap the first characters of each string.\n",
        "#Sample String : 'abc', 'xyz' \n",
        "#Expected Result : 'xbc ayz'\n",
        "str1 = input(\"Please Enter First String : \")\n",
        "str2 =input(\"Please Enter Second String : \")\n",
        " \n",
        "x=str1[0:1]\n",
        " \n",
        "str1=str1.replace(str1[0:1],str2[0:1])\n",
        " \n",
        "str2=str2.replace(str2[0:1],x)\n",
        " \n",
        "print(\"Your first string has become :- \",str1)\n",
        "print(\"Your second string has become :- \",str2)"
      ],
      "execution_count": null,
      "outputs": [
        {
          "output_type": "stream",
          "name": "stdout",
          "text": [
            "Please Enter First String : amit\n",
            "Please Enter Second String : patel\n",
            "Your first string has become :-  pmit\n",
            "Your second string has become :-  aatel\n"
          ]
        }
      ]
    },
    {
      "cell_type": "code",
      "metadata": {
        "colab": {
          "base_uri": "https://localhost:8080/"
        },
        "id": "UyRAQClv7qWp",
        "outputId": "f00546a0-260d-4c7f-bd95-3f8cd21e9f2e"
      },
      "source": [
        "#36. Write a Python program to add 'polis' at the end of a given string (length should be at least 3).\n",
        "#  If the given string already ends with 'polis' then add 'polisCS' instead.\n",
        "#  If the string length of the given string is less than 3, leave it unchanged. \n",
        "#  Sample String : 'abc'\n",
        "#  Expected Result : 'abcpolisCS' \n",
        "#  Sample String : 'Acropolis'\n",
        "#  Expected Result : 'AcropolisCS'\n",
        "\n",
        "def add_string(str1):\n",
        "  length = len(str1)\n",
        "\n",
        "  if length > 2:\n",
        "    if str1[-5:] == 'polis':\n",
        "      str1 += 'CS'\n",
        "    else:\n",
        "      str1 += 'polis'\n",
        "\n",
        "  return str1\n",
        "print(add_string('ab'))\n",
        "print(add_string('abc'))\n",
        "print(add_string('Acropolis'))"
      ],
      "execution_count": null,
      "outputs": [
        {
          "output_type": "stream",
          "name": "stdout",
          "text": [
            "ab\n",
            "abcpolis\n",
            "AcropolisCS\n"
          ]
        }
      ]
    },
    {
      "cell_type": "code",
      "metadata": {
        "colab": {
          "base_uri": "https://localhost:8080/"
        },
        "id": "PGtp7-CS71rJ",
        "outputId": "9fb40c99-ba8a-42da-af1f-78079a32f166"
      },
      "source": [
        "#37)Write a Python program to count the number of characters (character frequency) in a string. \n",
        "# Sample String : google.com'\n",
        "#Expected Result : {'o': 3, 'g': 2, '.': 1, 'e': 1, 'l': 1, 'm': 1, 'c': 1}\n",
        "def char_frequency(str1):\n",
        "    dict = {}\n",
        "    for n in str1:\n",
        "        keys = dict.keys()\n",
        "        if n in keys:\n",
        "            dict[n] += 1\n",
        "        else:\n",
        "            dict[n] = 1\n",
        "    return dict\n",
        "print(char_frequency('google.com'))"
      ],
      "execution_count": null,
      "outputs": [
        {
          "output_type": "stream",
          "name": "stdout",
          "text": [
            "{'g': 2, 'o': 3, 'l': 1, 'e': 1, '.': 1, 'c': 1, 'm': 1}\n"
          ]
        }
      ]
    },
    {
      "cell_type": "code",
      "metadata": {
        "colab": {
          "base_uri": "https://localhost:8080/"
        },
        "id": "MeEff1OV6yqb",
        "outputId": "a48e7aaa-259e-4bc8-a523-1aadad3da8f8"
      },
      "source": [
        "#38. Write a Python program to change a given string to a new string where the second and last chars have been exchanged.\n",
        "def change_sring(str1):\n",
        "      return str1[0:1]+str1[-1:] + str1[2:-1] + str1[1:2]\n",
        "\t  \n",
        "print(change_sring('abcd'))\n",
        "print(change_sring('12345'))"
      ],
      "execution_count": null,
      "outputs": [
        {
          "output_type": "stream",
          "name": "stdout",
          "text": [
            "adcb\n",
            "15342\n"
          ]
        }
      ]
    },
    {
      "cell_type": "code",
      "metadata": {
        "colab": {
          "base_uri": "https://localhost:8080/"
        },
        "id": "aY77ihLw-7Lj",
        "outputId": "3cc0945c-c09a-4577-8da9-f16fe7761b84"
      },
      "source": [
        "#39)Write a Python program to remove the characters which have even index values of a given string.\n",
        "def even_values_string(str):\n",
        "  result = \"\" \n",
        "  for i in range(len(str)):\n",
        "    if i % 2!= 0:\n",
        "      result = result + str[i]\n",
        "  return result\n",
        "\n",
        "print(even_values_string('abcdef'))\n",
        "print(even_values_string('python'))"
      ],
      "execution_count": null,
      "outputs": [
        {
          "output_type": "stream",
          "name": "stdout",
          "text": [
            "bdf\n",
            "yhn\n"
          ]
        }
      ]
    },
    {
      "cell_type": "code",
      "metadata": {
        "colab": {
          "base_uri": "https://localhost:8080/"
        },
        "id": "VQjbgXZL-_m6",
        "outputId": "736b25a8-484c-4c0d-db4a-71cfefad0565"
      },
      "source": [
        "#40 .Write a Python program that takes input from the user and displays that input back in upper and lower cases.\n",
        "str1=input(\"enter string :\")\n",
        "print(\"in upper :\" ,str1.upper())\n",
        "print(\"in lower :\" ,str1.lower())"
      ],
      "execution_count": null,
      "outputs": [
        {
          "output_type": "stream",
          "name": "stdout",
          "text": [
            "enter string :amIt\n",
            "in upper : AMIT\n",
            "in lower : amit\n"
          ]
        }
      ]
    },
    {
      "cell_type": "code",
      "metadata": {
        "colab": {
          "base_uri": "https://localhost:8080/"
        },
        "id": "aOWzcE9G7Men",
        "outputId": "b713ecb4-9fc0-4ecd-f97a-8f9dc4e5ec82"
      },
      "source": [
        "#41)Write a Python program to count occurrences of a substring in a string.\n",
        "str1 = 'school collage school'\n",
        "print()\n",
        "print(str1.count(\"school\"))\n",
        "print()"
      ],
      "execution_count": null,
      "outputs": [
        {
          "output_type": "stream",
          "name": "stdout",
          "text": [
            "\n",
            "2\n",
            "\n"
          ]
        }
      ]
    },
    {
      "cell_type": "code",
      "metadata": {
        "colab": {
          "base_uri": "https://localhost:8080/"
        },
        "id": "c57rH3M0-Qm7",
        "outputId": "24cb8eef-12a4-472a-b4d8-98deb2f15b7a"
      },
      "source": [
        "#42)Write a Python program to lowercase first n characters in a string.\n",
        "str1 = 'ACROPOLIS'\n",
        "print(str1[:4].lower() + str1[4:])"
      ],
      "execution_count": null,
      "outputs": [
        {
          "output_type": "stream",
          "name": "stdout",
          "text": [
            "acroPOLIS\n"
          ]
        }
      ]
    },
    {
      "cell_type": "code",
      "metadata": {
        "colab": {
          "base_uri": "https://localhost:8080/"
        },
        "id": "xmFC1zWH-Xtr",
        "outputId": "ec6fefaa-e5ab-4d6a-ce3a-51ce8b6efcf6"
      },
      "source": [
        "#43)Write a Python program to remove spaces from a given string.\n",
        "def remove_spaces(str1):\n",
        "  str1 = str1.replace(' ','')\n",
        "  return str1\n",
        "    \n",
        "print(remove_spaces(\"A c r o p o l i s\"))\n",
        "print(remove_spaces(\"A M I T \"))"
      ],
      "execution_count": null,
      "outputs": [
        {
          "output_type": "stream",
          "name": "stdout",
          "text": [
            "Acropolis\n",
            "AMIT\n"
          ]
        }
      ]
    },
    {
      "cell_type": "code",
      "metadata": {
        "colab": {
          "base_uri": "https://localhost:8080/"
        },
        "id": "pL0txWvk-miV",
        "outputId": "54ba81b4-6e72-46d9-e0d8-5bb2e03a1870"
      },
      "source": [
        "#44)Write a Python program to move spaces to the front of a given string.\n",
        "def move_Spaces_front(str1):\n",
        "  noSpaces_char = [ch for ch in str1 if ch!=' ']\n",
        "  spaces_char = len(str1) - len(noSpaces_char)\n",
        "  result = ' '*spaces_char\n",
        "  result = '\"'+result + ''.join(noSpaces_char)+'\"'\n",
        "  return(result)\n",
        "\n",
        "print(move_Spaces_front(\"Acropolis    Collage  \"))\n",
        "print(move_Spaces_front(\"CSIT         Branch \"))"
      ],
      "execution_count": null,
      "outputs": [
        {
          "output_type": "stream",
          "name": "stdout",
          "text": [
            "\"      AcropolisCollage\"\n",
            "\"          CSITBranch\"\n"
          ]
        }
      ]
    },
    {
      "cell_type": "code",
      "metadata": {
        "colab": {
          "base_uri": "https://localhost:8080/"
        },
        "id": "kgpLWQrZAai3",
        "outputId": "d2d387d5-3b26-4023-ccd1-c1061a542efc"
      },
      "source": [
        "#45)Write a Python program to find the maximum occurring character in a given string.\n",
        "def get_max_occuring_char(str1):\n",
        "  ASCII_SIZE = 256\n",
        "  ctr = [0] * ASCII_SIZE\n",
        "  max = -1\n",
        "  ch = ''\n",
        "  for i in str1:\n",
        "    ctr[ord(i)]+=1;\n",
        " \n",
        "  for i in str1:\n",
        "    if max < ctr[ord(i)]:\n",
        "      max = ctr[ord(i)]\n",
        "      ch = i\n",
        "  return ch\n",
        "\n",
        "print(get_max_occuring_char(\"Acropolis\"))\n",
        "print(get_max_occuring_char(\"Amit\"))"
      ],
      "execution_count": null,
      "outputs": [
        {
          "output_type": "stream",
          "name": "stdout",
          "text": [
            "o\n",
            "A\n"
          ]
        }
      ]
    },
    {
      "cell_type": "code",
      "metadata": {
        "colab": {
          "base_uri": "https://localhost:8080/"
        },
        "id": "gdo-DgXuB7_N",
        "outputId": "3e2d4bbe-a62c-40b5-b024-2e492e6f7bbc"
      },
      "source": [
        "#46)Write a Python program to capitalize first and last letters of each word of a given string.\n",
        "def capitalize_first_last_letters(str1):\n",
        "     str1 = result = str1.title()\n",
        "     result =  \"\"\n",
        "     for word in str1.split():\n",
        "        result += word[:-1] + word[-1].upper() + \" \"\n",
        "     return result[:-1]  \n",
        "     \n",
        "print(capitalize_first_last_letters(\"acropolis\"))\n",
        "print(capitalize_first_last_letters(\"Amit\"))"
      ],
      "execution_count": null,
      "outputs": [
        {
          "output_type": "stream",
          "name": "stdout",
          "text": [
            "AcropoliS\n",
            "AmiT\n"
          ]
        }
      ]
    },
    {
      "cell_type": "code",
      "metadata": {
        "colab": {
          "base_uri": "https://localhost:8080/"
        },
        "id": "NVTmqyzUB8kd",
        "outputId": "66495dec-22d9-4a49-ec81-86db2dc06517"
      },
      "source": [
        "#47)Write a Python program to compute sum of digits of a given string.\n",
        "def sum_digits_string(str1):\n",
        "    sum_digit = 0\n",
        "    for x in str1:\n",
        "        if x.isdigit() == True:\n",
        "            z = int(x)\n",
        "            sum_digit = sum_digit + z\n",
        "\n",
        "    return sum_digit\n",
        "     \n",
        "print(sum_digits_string(\"Acropolis596CI\"))\n",
        "print(sum_digits_string(\"CS35IT\"))"
      ],
      "execution_count": null,
      "outputs": [
        {
          "output_type": "stream",
          "name": "stdout",
          "text": [
            "20\n",
            "8\n"
          ]
        }
      ]
    },
    {
      "cell_type": "code",
      "metadata": {
        "colab": {
          "base_uri": "https://localhost:8080/"
        },
        "id": "ZJkLbHyRB9HP",
        "outputId": "a9e16703-2615-4c9e-d1d5-bb6d160145d0"
      },
      "source": [
        "#48)Write a Python function that takes a list of words and returns the length of the longest one.\n",
        "def find_longest_word(words_list):\n",
        "    word_len = []\n",
        "    for n in words_list:\n",
        "        word_len.append((len(n), n))\n",
        "    word_len.sort()\n",
        "    return word_len[-1][0], word_len[-1][1]\n",
        "result = find_longest_word([\"CS\", \"ACROPOLIS\", \"CSIT\"])\n",
        "print(\"\\nLongest word: \",result[1])\n",
        "print(\"Length of the longest word: \",result[0])"
      ],
      "execution_count": null,
      "outputs": [
        {
          "output_type": "stream",
          "name": "stdout",
          "text": [
            "\n",
            "Longest word:  ACROPOLIS\n",
            "Length of the longest word:  9\n"
          ]
        }
      ]
    },
    {
      "cell_type": "code",
      "metadata": {
        "colab": {
          "base_uri": "https://localhost:8080/"
        },
        "id": "CYQ4AOaA5OGV",
        "outputId": "b7388064-1404-4c12-f8e8-9f7d52f23a44"
      },
      "source": [
        "#49.Write a function x(n) for computing an element in the sequence xn=n^2+1. Call the function for n=4 and write out the result.\n",
        "\n",
        "def x(n):\n",
        "  return(n**2 + 1)\n",
        "\n",
        "print(x(4))"
      ],
      "execution_count": 21,
      "outputs": [
        {
          "output_type": "stream",
          "name": "stdout",
          "text": [
            "17\n"
          ]
        }
      ]
    },
    {
      "cell_type": "code",
      "metadata": {
        "colab": {
          "base_uri": "https://localhost:8080/"
        },
        "id": "GzdGZTpoA1NS",
        "outputId": "af8b80e9-cd73-4f57-958a-0bf71ef13019"
      },
      "source": [
        "#50. Take the following Python code that stores a string: ‘str = 'Y-tatata-acropolis: 0.8475'. Use find and string slicing to extract the portion \n",
        "#of the string after the colon character and then use the float function to convert the extracted string into a floating point number.\n",
        "\n",
        "string = 'Y-tatata-acropolis: 0.8475'\n",
        "col_pos = string.find(':')                  # Finds the colon character\n",
        "number = string[col_pos + 1:]                 # Extracts portion after colon\n",
        "confidence = float(number)                  # Converts to floating point number\n",
        "print(confidence)\n"
      ],
      "execution_count": null,
      "outputs": [
        {
          "output_type": "stream",
          "name": "stdout",
          "text": [
            "0.8475\n"
          ]
        }
      ]
    },
    {
      "cell_type": "code",
      "metadata": {
        "colab": {
          "base_uri": "https://localhost:8080/"
        },
        "id": "6b9o7opwCzUN",
        "outputId": "064a9f6a-c15c-4492-b735-669e8e641fcf"
      },
      "source": [
        "#51. Write a function that returns the middle value among three integers. (Hint: make use of min() and max()). Write code to test this function with different inputs.\n",
        "\n",
        "def middleOfThree(a, b, c) :\n",
        "\tif a > b :\n",
        "\t\tif (b > c):\n",
        "\t\t\treturn b\n",
        "\t\telif (a > c) :\n",
        "\t\t\treturn c\n",
        "\t\telse :\n",
        "\t\t\treturn a\n",
        "\telse:\n",
        "\t\tif (a > c) :\n",
        "\t\t\treturn a\n",
        "\t\telif (b > c) :\n",
        "\t\t\treturn c\n",
        "\t\telse :\n",
        "\t\t\treturn b\n",
        "\n",
        "a = 20\n",
        "b = 45\n",
        "c = 40\n",
        "print( middleOfThree(a, b, c) )"
      ],
      "execution_count": null,
      "outputs": [
        {
          "output_type": "stream",
          "name": "stdout",
          "text": [
            "40\n"
          ]
        }
      ]
    },
    {
      "cell_type": "code",
      "metadata": {
        "colab": {
          "base_uri": "https://localhost:8080/"
        },
        "id": "EE9DRUEtEHqX",
        "outputId": "bb41c401-f4fd-4398-e2b4-f303bb2aaffd"
      },
      "source": [
        "#52.Write a function that computes the area of a rectangle. Then, write a second function that calls this function three times to compute the surface area of a rectangular solid.\n",
        "def secondfun():\n",
        "  for i in range(3):\n",
        "    print(area(i+1,i+3))\n",
        "\n",
        "def area(h,w):\n",
        "  area=h*w\n",
        "  return area\n",
        "height=2\n",
        "width=3\n",
        "print(area(height,width))\n",
        "\n",
        "secondfun()\n"
      ],
      "execution_count": null,
      "outputs": [
        {
          "output_type": "stream",
          "name": "stdout",
          "text": [
            "6\n",
            "3\n",
            "8\n",
            "15\n"
          ]
        }
      ]
    },
    {
      "cell_type": "code",
      "metadata": {
        "colab": {
          "base_uri": "https://localhost:8080/"
        },
        "id": "2CAguGjFHVZM",
        "outputId": "701ac771-4bc6-445d-923b-8ac65894f142"
      },
      "source": [
        "#53.Create an outer function that will accept three parameters, a, b and c. Create an inner function inside an outer function that will calculate the\n",
        "#addition of a, b and c. At last, an outer function will add 5 into addition and return it \n",
        "def num1(x,y,z):\n",
        "  def num2(a,b,c):\n",
        "    return a+b+c\n",
        "  outer=num2(x,y,z)+5\n",
        "  return outer\n",
        "\n",
        "print(num1(5,4,5))\n"
      ],
      "execution_count": null,
      "outputs": [
        {
          "output_type": "stream",
          "name": "stdout",
          "text": [
            "19\n"
          ]
        }
      ]
    },
    {
      "cell_type": "code",
      "metadata": {
        "id": "v61xLk9XHVWD",
        "colab": {
          "base_uri": "https://localhost:8080/"
        },
        "outputId": "0a26becb-042a-44bf-9e4f-b6f6e8ac0ec8"
      },
      "source": [
        "#54.Write a program to create a recursive function to calculate the product of numbers from 10 to 100.\n",
        "\n",
        "def recur(n):\n",
        "   if n == 10:\n",
        "       return n\n",
        "   else:\n",
        "       return n*recur(n-1)\n",
        "\n",
        "print(\"the product of numbers from 10 to 100 : \" \"is\", recur(100))\n"
      ],
      "execution_count": 20,
      "outputs": [
        {
          "output_type": "stream",
          "name": "stdout",
          "text": [
            "the product of numbers from 10 to 100 : is 257182031095525112107857249934597388918419224714455526533820998388496472644482792132224051962512451185663850090463028434334174412800000000000000000000000\n"
          ]
        }
      ]
    },
    {
      "cell_type": "code",
      "metadata": {
        "colab": {
          "base_uri": "https://localhost:8080/"
        },
        "id": "rgmVoehhHVSH",
        "outputId": "c824dabc-e291-46d8-d0e8-5d89d438f92b"
      },
      "source": [
        "#55.Write a Python function to calculate the factorial of a number (a non-negative integer). The function accepts the number as an argument.\n",
        "def factorial(n):\n",
        "    if n == 0:\n",
        "        return 1\n",
        "    else:\n",
        "        return n * factorial(n-1)\n",
        "n=int(input(\"Input a number : \"))\n",
        "print(factorial(n))"
      ],
      "execution_count": null,
      "outputs": [
        {
          "output_type": "stream",
          "name": "stdout",
          "text": [
            "Input a number : 5\n",
            "120\n"
          ]
        }
      ]
    },
    {
      "cell_type": "code",
      "metadata": {
        "colab": {
          "base_uri": "https://localhost:8080/"
        },
        "id": "PzNnRlVTHVMn",
        "outputId": "4aa267e5-dfc9-4c5b-dd65-c354f3b7b34a"
      },
      "source": [
        "#56.Write a Python function to display all the multiples of  7 & 9 within the range 100 to 500.\n",
        "nl=[]\n",
        "for x in range(100, 501):\n",
        "    if (x%7==0) and (x%9==0):\n",
        "        nl.append(str(x))\n",
        "print (','.join(nl))"
      ],
      "execution_count": null,
      "outputs": [
        {
          "output_type": "stream",
          "name": "stdout",
          "text": [
            "126,189,252,315,378,441\n"
          ]
        }
      ]
    },
    {
      "cell_type": "code",
      "metadata": {
        "colab": {
          "base_uri": "https://localhost:8080/"
        },
        "id": "ygx4_wlXHVJE",
        "outputId": "127e9923-39a9-4e40-d5b2-16f05e4b1f37"
      },
      "source": [
        "#57.Write a Python function  to check whether the given integer is a prime number or not.\n",
        "num = 27\n",
        "flag = False\n",
        "def prime(n):\n",
        "  flag1=False\n",
        "  if n > 1:\n",
        "    for i in range(2, n):\n",
        "        if (n % i) == 0:\n",
        "            flag1 = True\n",
        "            break\n",
        "  return flag1\n",
        "\n",
        "flag=prime(num)\n",
        "if flag:\n",
        "    print(num, \"is not a prime number\")\n",
        "else:\n",
        "    print(num, \"is a prime number\")"
      ],
      "execution_count": null,
      "outputs": [
        {
          "output_type": "stream",
          "name": "stdout",
          "text": [
            "27 is not a prime number\n"
          ]
        }
      ]
    },
    {
      "cell_type": "code",
      "metadata": {
        "colab": {
          "base_uri": "https://localhost:8080/"
        },
        "id": "Ev_BZafpHVDX",
        "outputId": "8cb7a27b-03bb-45c1-b667-461900958e9b"
      },
      "source": [
        "#58. Write a Python function that checks whether a passed interger is armstrong or not.\n",
        "\n",
        "n = int(input(\"Enter a number: \"))\n",
        "\n",
        "def armstrong(num):\n",
        "  sum = 0\n",
        "  temp = num\n",
        "  while temp > 0:\n",
        "    digit = temp % 10\n",
        "    sum += digit ** 3\n",
        "    temp //= 10\n",
        "  return sum\n",
        "\n",
        "summ=armstrong(n)\n",
        "if n == summ:\n",
        "   print(n,\"is an Armstrong number\")\n",
        "else:\n",
        "   print(n,\"is not an Armstrong number\")\n"
      ],
      "execution_count": null,
      "outputs": [
        {
          "output_type": "stream",
          "name": "stdout",
          "text": [
            "Enter a number: 407\n",
            "407 is an Armstrong number\n"
          ]
        }
      ]
    },
    {
      "cell_type": "code",
      "metadata": {
        "colab": {
          "base_uri": "https://localhost:8080/"
        },
        "id": "6FKu-WbbHU4v",
        "outputId": "243cc780-656a-4916-feb6-335b547d601f"
      },
      "source": [
        "#59. Program to return a function from another function.\n",
        "\n",
        "def B():\n",
        "\tprint(\"Inside the method B.\")\n",
        "\t\n",
        "def A():\n",
        "\tprint(\"Inside the method A.\")\n",
        "\treturn B\n",
        "\n",
        "returned_function = A()\n",
        "\n",
        "returned_function()\n"
      ],
      "execution_count": null,
      "outputs": [
        {
          "output_type": "stream",
          "name": "stdout",
          "text": [
            "Inside the method A.\n",
            "Inside the method B.\n"
          ]
        }
      ]
    },
    {
      "cell_type": "code",
      "metadata": {
        "colab": {
          "base_uri": "https://localhost:8080/"
        },
        "id": "wYbQiXDINiOS",
        "outputId": "307c16ae-8c49-4573-ceab-f644ee253b30"
      },
      "source": [
        "#60. First, def a function, start_process, that takes one argument p. Then, if the start_process function receives an p equal to \"Yes\",\n",
        "# it should return \"Start Process\" Alternatively, elif p is equal to \"No\", then the function should return \"Start Process Aborted\".\n",
        "#  Finally, if start_process gets anything other than those inputs, the function should return \"Sorry for the input\".\n",
        "\n",
        "def start_process(p):\n",
        "  if p==\"Yes\":\n",
        "    return \"Start Process\"\n",
        "  elif p==\"No\":\n",
        "    return \"Start Process Aborted\"\n",
        "  else:\n",
        "    return \"Sorry for the input\"\n",
        "\n",
        "command= input(\"Enter a command: \")\n",
        "print(start_process(command))"
      ],
      "execution_count": null,
      "outputs": [
        {
          "output_type": "stream",
          "name": "stdout",
          "text": [
            "Enter a command: Yes\n",
            "Start Process\n"
          ]
        }
      ]
    },
    {
      "cell_type": "code",
      "metadata": {
        "id": "gSqf0HgENiEa",
        "colab": {
          "base_uri": "https://localhost:8080/"
        },
        "outputId": "cfadc96f-bb9e-4553-c267-da7b48e8d393"
      },
      "source": [
        "#61. First, def a function called calculate_distance, with one argument (choose any argument name you like).\n",
        "#   If the type of the argument is either int or float, the function should return the absolute value of the function input.\n",
        "#   Otherwise, the function should return \"No value\". Check if it works calling the function with  9.6 and \"what?\".\n",
        "\n",
        "def calculate_distance(argument):\n",
        "  if type(argument) == int or type(argument) == float:\n",
        "      return abs(argument)\n",
        "  else:\n",
        "      print(\"No value\")\n",
        "\n",
        "print(\"the absolute value : \" ,calculate_distance(33.20))\n",
        "\n",
        "calculate_distance(\"what?\")"
      ],
      "execution_count": 17,
      "outputs": [
        {
          "output_type": "stream",
          "name": "stdout",
          "text": [
            "the absolute value :  33.2\n",
            "No value\n"
          ]
        }
      ]
    },
    {
      "cell_type": "code",
      "metadata": {
        "id": "WCKiCn9ma-lv",
        "colab": {
          "base_uri": "https://localhost:8080/"
        },
        "outputId": "b4671640-9b25-4ddb-93eb-9652ee048e08"
      },
      "source": [
        "#62.Python program to display the sum of input (n) numbers using a list.\n",
        "\n",
        "list1 = [11, 5, 17, 18, 23]\n",
        "total=0\n",
        "for i in range(0, len(list1)):\n",
        "    total = total + list1[i]\n",
        " \n",
        "print(\"Sum of all elements in given list: \", total)"
      ],
      "execution_count": 2,
      "outputs": [
        {
          "output_type": "stream",
          "name": "stdout",
          "text": [
            "Sum of all elements in given list:  74\n"
          ]
        }
      ]
    },
    {
      "cell_type": "code",
      "metadata": {
        "colab": {
          "base_uri": "https://localhost:8080/"
        },
        "id": "9FcdRxR0a-Yj",
        "outputId": "ad0cd825-4ba0-4c84-b03f-6afb4246488f"
      },
      "source": [
        "#63)Python program to insert a number to given position in a list.\n",
        "print(\"Enter 10 Elements of List: \")\n",
        "nums = []\n",
        "for i in range(10):\n",
        "    nums.insert(i, input())\n",
        "print(\"Enter an Element to Insert at End: \")\n",
        "elem = input()\n",
        "nums.append(elem)\n",
        "print(\"\\nThe New List is: \")\n",
        "print(nums)"
      ],
      "execution_count": null,
      "outputs": [
        {
          "output_type": "stream",
          "name": "stdout",
          "text": [
            "Enter 10 Elements of List: \n",
            "2\n",
            "3\n",
            "4\n",
            "5\n",
            "6\n",
            "1\n",
            "8\n",
            "6\n",
            "9\n",
            "5\n",
            "Enter an Element to Insert at End: \n",
            "4\n",
            "\n",
            "The New List is: \n",
            "['2', '3', '4', '5', '6', '1', '8', '6', '9', '5', '4']\n"
          ]
        }
      ]
    },
    {
      "cell_type": "code",
      "metadata": {
        "id": "XrJuZO5ja-L_",
        "colab": {
          "base_uri": "https://localhost:8080/"
        },
        "outputId": "4847e239-6d46-4ae6-def2-8fd388c9cb12"
      },
      "source": [
        "#64. Write the program that prompts the user for a list of numbers and prints out the maximum and minimum of the \n",
        "# numbers at the end when the user enters “done”. Write the program to store the numbers the user enters in a list and \n",
        "# use the max() and min() functions to compute the maximum and minimum numbers after the loop completes.\n",
        "\n",
        "my_list = []                     \n",
        "while True:\n",
        "    number = 0.0\n",
        "    input_number = input('Enter a number: ')\n",
        "    if input_number == 'done':\n",
        "        break\n",
        "\n",
        "    try:\n",
        "        number = float(input_number)\n",
        "    except ValueError:\n",
        "        print('Invalid input')\n",
        "        quit()\n",
        "\n",
        "    my_list.append(number)\n",
        "\n",
        "if my_list:\n",
        "    print('Maximum: ', max(my_list) or None)\n",
        "    print('Minimum: ', min(my_list) or None)"
      ],
      "execution_count": 9,
      "outputs": [
        {
          "output_type": "stream",
          "name": "stdout",
          "text": [
            "Enter a number: 4\n",
            "Enter a number: 55\n",
            "Enter a number: 7\n",
            "Enter a number: 4\n",
            "Enter a number: done\n",
            "[4.0, 55.0, 7.0, 4.0]\n",
            "Maximum:  55.0\n",
            "Minimum:  4.0\n"
          ]
        }
      ]
    },
    {
      "cell_type": "code",
      "metadata": {
        "id": "YKBWSZ9xa93P",
        "colab": {
          "base_uri": "https://localhost:8080/"
        },
        "outputId": "344cf390-b0c1-4e22-bf08-c2f5830a5266"
      },
      "source": [
        "#65.Write another program that prompts for a list of numbers as above and at the end prints out both the maximum and minimum of the numbers.\n",
        "my_list = []                     \n",
        "while True:\n",
        "    number = 0.0\n",
        "    input_number = input('Enter a number: ')\n",
        "    if input_number == 'done':\n",
        "        break\n",
        "\n",
        "    try:\n",
        "        number = float(input_number)\n",
        "    except ValueError:\n",
        "        print('Invalid input')\n",
        "        quit()\n",
        "\n",
        "    my_list.append(number)\n",
        "\n",
        "if my_list:\n",
        "    print('Maximum: ', max(my_list) or None)\n",
        "    print('Minimum: ', min(my_list) or None)\n"
      ],
      "execution_count": 10,
      "outputs": [
        {
          "output_type": "stream",
          "name": "stdout",
          "text": [
            "Enter a number: 3\n",
            "Enter a number: 4\n",
            "Enter a number: 9\n",
            "Enter a number: 1\n",
            "Enter a number: done\n",
            "Maximum:  9.0\n",
            "Minimum:  1.0\n"
          ]
        }
      ]
    },
    {
      "cell_type": "code",
      "metadata": {
        "id": "hCcxKn9ya9fn",
        "colab": {
          "base_uri": "https://localhost:8080/"
        },
        "outputId": "41bcf6d1-7c86-479a-c34f-89107d9c4871"
      },
      "source": [
        "#66.Python program to delete an element from a list by index which is given by the user.\n",
        "\n",
        "print(\"Enter 10 Elements: \")\n",
        "arr = []\n",
        "for i in range(10):\n",
        "    arr.append(input())\n",
        "\n",
        "print(\"\\nEnter the Value to Delete: \")\n",
        "val = input()\n",
        "\n",
        "arr.remove(val)\n",
        "print(arr)"
      ],
      "execution_count": 3,
      "outputs": [
        {
          "output_type": "stream",
          "name": "stdout",
          "text": [
            "Enter 10 Elements: \n",
            "3\n",
            "4\n",
            "6\n",
            "9\n",
            "76\n",
            "23\n",
            "65\n",
            "41\n",
            "54\n",
            "55\n",
            "\n",
            "Enter the Value to Delete: \n",
            "76\n",
            "['3', '4', '6', '9', '23', '65', '41', '54', '55']\n"
          ]
        }
      ]
    },
    {
      "cell_type": "code",
      "metadata": {
        "colab": {
          "base_uri": "https://localhost:8080/"
        },
        "id": "oJcQ9IkUNh4s",
        "outputId": "32883194-e760-47da-d7ff-bd52357a783e"
      },
      "source": [
        "#67)Write a Python program to print a specified list after removing the 1st, 2nd and 5th elements.\n",
        "color = ['Red', 'Green', 'White', 'Black', 'Pink', 'Yellow']\n",
        "color = [x for (i,x) in enumerate(color) if i not in (1,2,5)]\n",
        "print(color)"
      ],
      "execution_count": null,
      "outputs": [
        {
          "output_type": "stream",
          "name": "stdout",
          "text": [
            "['Red', 'Black', 'Pink']\n"
          ]
        }
      ]
    },
    {
      "cell_type": "code",
      "metadata": {
        "colab": {
          "base_uri": "https://localhost:8080/"
        },
        "id": "-7lD_edlHUqf",
        "outputId": "59e373d2-1c13-49ba-a38e-f4861b6d86de"
      },
      "source": [
        "#68)Write a Python program to generate all sublists of a list.\n",
        "from itertools import combinations\n",
        "def sub_lists(my_list):\n",
        "\tsubs = []\n",
        "\tfor i in range(0, len(my_list)+1):\n",
        "\t  temp = [list(x) for x in combinations(my_list, i)]\n",
        "\t  if len(temp)>0:\n",
        "\t    subs.extend(temp)\n",
        "\treturn subs\n",
        "\n",
        "\n",
        "l1 = [10, 20, 30, 40]\n",
        "l2 = ['X', 'Y', 'Z']\n",
        "print(\"Original list:\")\n",
        "print(l1)\n",
        "print(\"S\")\n",
        "print(sub_lists(l1))\n",
        "print(\"Sublists of the said list:\")\n",
        "print(sub_lists(l1))\n",
        "print(\"\\nOriginal list:\")\n",
        "print(l2)\n",
        "print(\"Sublists of the said list:\")\n",
        "print(sub_lists(l2))"
      ],
      "execution_count": null,
      "outputs": [
        {
          "output_type": "stream",
          "name": "stdout",
          "text": [
            "Original list:\n",
            "[10, 20, 30, 40]\n",
            "S\n",
            "[[], [10], [20], [30], [40], [10, 20], [10, 30], [10, 40], [20, 30], [20, 40], [30, 40], [10, 20, 30], [10, 20, 40], [10, 30, 40], [20, 30, 40], [10, 20, 30, 40]]\n",
            "Sublists of the said list:\n",
            "[[], [10], [20], [30], [40], [10, 20], [10, 30], [10, 40], [20, 30], [20, 40], [30, 40], [10, 20, 30], [10, 20, 40], [10, 30, 40], [20, 30, 40], [10, 20, 30, 40]]\n",
            "\n",
            "Original list:\n",
            "['X', 'Y', 'Z']\n",
            "Sublists of the said list:\n",
            "[[], ['X'], ['Y'], ['Z'], ['X', 'Y'], ['X', 'Z'], ['Y', 'Z'], ['X', 'Y', 'Z']]\n"
          ]
        }
      ]
    },
    {
      "cell_type": "code",
      "metadata": {
        "colab": {
          "base_uri": "https://localhost:8080/"
        },
        "id": "H-Yu5QdkHOBH",
        "outputId": "528f539b-53b1-4883-945d-e3d64686f909"
      },
      "source": [
        "#69)Write a Python program to find all the values in a list are greater than a given number.\n",
        "list1 = [220, 330, 500]\n",
        "list2 = [12, 17, 21]\n",
        "print(all(x >= 200 for x in list1))\n",
        "print(all(x >= 15 for x in list2))"
      ],
      "execution_count": null,
      "outputs": [
        {
          "output_type": "stream",
          "name": "stdout",
          "text": [
            "True\n",
            "False\n"
          ]
        }
      ]
    },
    {
      "cell_type": "code",
      "metadata": {
        "colab": {
          "base_uri": "https://localhost:8080/"
        },
        "id": "nfTOBJzAHLbI",
        "outputId": "18935d77-5bb8-4902-b63e-1d6c65a32242"
      },
      "source": [
        "#70)Python program to find the even numbers in a List.\n",
        "list1 = [10, 21, 4, 45, 66, 93]\n",
        "for num in list1:\n",
        "    if num % 2 == 0:\n",
        "        print(num, end=\" \")"
      ],
      "execution_count": null,
      "outputs": [
        {
          "output_type": "stream",
          "name": "stdout",
          "text": [
            "10 4 66 "
          ]
        }
      ]
    }
  ]
}